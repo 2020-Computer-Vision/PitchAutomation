{
 "cells": [
  {
   "cell_type": "markdown",
   "metadata": {},
   "source": [
    "# Pitch Detection Data"
   ]
  },
  {
   "cell_type": "code",
   "execution_count": 2,
   "metadata": {},
   "outputs": [],
   "source": [
    "import pandas as pd\n",
    "import numpy as np\n",
    "import matplotlib.pyplot as plt\n",
    "import cv2\n",
    "import time"
   ]
  },
  {
   "cell_type": "code",
   "execution_count": 3,
   "metadata": {},
   "outputs": [
    {
     "data": {
      "text/html": [
       "<div>\n",
       "<style scoped>\n",
       "    .dataframe tbody tr th:only-of-type {\n",
       "        vertical-align: middle;\n",
       "    }\n",
       "\n",
       "    .dataframe tbody tr th {\n",
       "        vertical-align: top;\n",
       "    }\n",
       "\n",
       "    .dataframe thead th {\n",
       "        text-align: right;\n",
       "    }\n",
       "</style>\n",
       "<table border=\"1\" class=\"dataframe\">\n",
       "  <thead>\n",
       "    <tr style=\"text-align: right;\">\n",
       "      <th></th>\n",
       "      <th>Frame</th>\n",
       "      <th>cx</th>\n",
       "      <th>cy</th>\n",
       "      <th>width</th>\n",
       "      <th>height</th>\n",
       "    </tr>\n",
       "  </thead>\n",
       "  <tbody>\n",
       "    <tr>\n",
       "      <th>0</th>\n",
       "      <td>179</td>\n",
       "      <td>0.360365</td>\n",
       "      <td>0.519166</td>\n",
       "      <td>0.019746</td>\n",
       "      <td>0.034254</td>\n",
       "    </tr>\n",
       "    <tr>\n",
       "      <th>1</th>\n",
       "      <td>180</td>\n",
       "      <td>0.362777</td>\n",
       "      <td>0.556992</td>\n",
       "      <td>0.020595</td>\n",
       "      <td>0.035851</td>\n",
       "    </tr>\n",
       "    <tr>\n",
       "      <th>2</th>\n",
       "      <td>181</td>\n",
       "      <td>0.366199</td>\n",
       "      <td>0.589505</td>\n",
       "      <td>0.018336</td>\n",
       "      <td>0.036508</td>\n",
       "    </tr>\n",
       "    <tr>\n",
       "      <th>3</th>\n",
       "      <td>182</td>\n",
       "      <td>0.366243</td>\n",
       "      <td>0.619478</td>\n",
       "      <td>0.017960</td>\n",
       "      <td>0.035255</td>\n",
       "    </tr>\n",
       "    <tr>\n",
       "      <th>4</th>\n",
       "      <td>183</td>\n",
       "      <td>0.366312</td>\n",
       "      <td>0.623461</td>\n",
       "      <td>0.017862</td>\n",
       "      <td>0.034723</td>\n",
       "    </tr>\n",
       "  </tbody>\n",
       "</table>\n",
       "</div>"
      ],
      "text/plain": [
       "   Frame        cx        cy     width    height\n",
       "0    179  0.360365  0.519166  0.019746  0.034254\n",
       "1    180  0.362777  0.556992  0.020595  0.035851\n",
       "2    181  0.366199  0.589505  0.018336  0.036508\n",
       "3    182  0.366243  0.619478  0.017960  0.035255\n",
       "4    183  0.366312  0.623461  0.017862  0.034723"
      ]
     },
     "execution_count": 3,
     "metadata": {},
     "output_type": "execute_result"
    }
   ],
   "source": [
    "o = pd.read_csv('Duke Game 1 Center Field.csv')\n",
    "o.head()"
   ]
  },
  {
   "cell_type": "code",
   "execution_count": 17,
   "metadata": {
    "scrolled": true
   },
   "outputs": [],
   "source": [
    "cnt = o.groupby(['Frame']).count()"
   ]
  },
  {
   "cell_type": "code",
   "execution_count": 18,
   "metadata": {},
   "outputs": [
    {
     "name": "stdout",
     "output_type": "stream",
     "text": [
      "Number of consecutive Streams with the ball: 1234\n"
     ]
    }
   ],
   "source": [
    "# Get information on the number of times when the ball is in the image\n",
    "last_frame = 0\n",
    "count = 0\n",
    "for frame_num in cnt.index:\n",
    "    \n",
    "    if abs(last_frame - frame_num) != 1:\n",
    "        count += 1\n",
    "        \n",
    "    last_frame = frame_num\n",
    "\n",
    "print(\"Number of consecutive Streams with the ball:\", count )"
   ]
  },
  {
   "cell_type": "markdown",
   "metadata": {},
   "source": [
    "## Get the Average spot of the ball"
   ]
  },
  {
   "cell_type": "code",
   "execution_count": 24,
   "metadata": {
    "scrolled": false
   },
   "outputs": [
    {
     "data": {
      "text/plain": [
       "True"
      ]
     },
     "execution_count": 24,
     "metadata": {},
     "output_type": "execute_result"
    }
   ],
   "source": [
    "# Read a basic image from the game\n",
    "img = cv2.imread('frames/frame00150.jpg')\n",
    "# obtain the mean x,y,width, and height values\n",
    "cx = o.mean()[1]\n",
    "cy = o.mean()[2]\n",
    "width = o.mean()[3]\n",
    "height = o.mean()[4]\n",
    "# image dimensions: (720, 1280)\n",
    "image_width = len(img[0])\n",
    "image_height = len(img)\n",
    "\n",
    "# top left and right of the average rectangle\n",
    "start = (int((cx - (width / 2))*image_width), int((cy - (height / 2))*image_height))\n",
    "end = (int((cx + (width / 2))*image_width), int((cy + (height / 2))*image_height))\n",
    "# draw avg rectangle over image and save it\n",
    "img = cv2.rectangle(img, start, end, (255, 0, 255) , 2)\n",
    "cv2.imwrite(\"Average_spot.png\", img)"
   ]
  },
  {
   "cell_type": "code",
   "execution_count": null,
   "metadata": {},
   "outputs": [],
   "source": []
  },
  {
   "cell_type": "code",
   "execution_count": null,
   "metadata": {},
   "outputs": [],
   "source": []
  },
  {
   "cell_type": "code",
   "execution_count": null,
   "metadata": {},
   "outputs": [],
   "source": []
  }
 ],
 "metadata": {
  "kernelspec": {
   "display_name": "Python 3",
   "language": "python",
   "name": "python3"
  },
  "language_info": {
   "codemirror_mode": {
    "name": "ipython",
    "version": 3
   },
   "file_extension": ".py",
   "mimetype": "text/x-python",
   "name": "python",
   "nbconvert_exporter": "python",
   "pygments_lexer": "ipython3",
   "version": "3.7.3"
  }
 },
 "nbformat": 4,
 "nbformat_minor": 2
}
